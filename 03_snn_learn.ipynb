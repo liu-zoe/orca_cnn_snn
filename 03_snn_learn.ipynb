{
  "cells": [
    {
      "cell_type": "markdown",
      "source": [
        "# Identifying SRKW Orca Calls using CNN and SNN\n",
        "## 03-Use SNN to identify SRKW calls"
      ],
      "metadata": {}
    },
    {
      "cell_type": "markdown",
      "source": [
        "Import libraries"
      ],
      "metadata": {}
    },
    {
      "cell_type": "code",
      "source": [
        "import numpy as np\n",
        "import pandas as pd\n",
        "import glob\n",
        "import cv2\n",
        "import os\n",
        "from collections import Counter\n",
        "\n",
        "import matplotlib.pyplot as plt\n",
        "from matplotlib import image\n",
        "import seaborn as sns\n",
        "\n",
        "from pylab import *\n",
        "\n",
        "from sklearn.metrics import roc_curve,roc_auc_score\n",
        "from sklearn.manifold import TSNE\n",
        "from sklearn.model_selection import train_test_split\n",
        "from scipy import spatial\n",
        "\n",
        "from tensorflow.keras.models import Sequential, Model\n",
        "from tensorflow.keras.optimizers import Adam, SGD, Adamax\n",
        "from tensorflow.keras.layers import Conv2D, ZeroPadding2D, Activation, Input, concatenate, Dropout, BatchNormalization, Concatenate, Layer, MaxPooling2D\n",
        "from tensorflow.keras.layers import Lambda, Flatten, Dense\n",
        "from tensorflow.keras.applications import DenseNet201\n",
        "\n",
        "from tensorflow.keras.initializers import glorot_uniform,he_uniform\n",
        "\n",
        "from tensorflow.keras.regularizers import l2\n",
        "from tensorflow.keras import backend as K\n",
        "from tensorflow.keras.utils import plot_model,normalize\n"
      ],
      "outputs": [
        {
          "output_type": "stream",
          "name": "stderr",
          "text": "2022-08-25 21:23:47.486027: I tensorflow/stream_executor/platform/default/dso_loader.cc:49] Successfully opened dynamic library libcudart.so.11.0\n"
        }
      ],
      "execution_count": 1,
      "metadata": {
        "gather": {
          "logged": 1661462645005
        }
      }
    },
    {
      "cell_type": "code",
      "source": [
        "%matplotlib inline\n",
        "np.random.seed(0)"
      ],
      "outputs": [],
      "execution_count": 2,
      "metadata": {
        "gather": {
          "logged": 1661462645470
        }
      }
    },
    {
      "cell_type": "markdown",
      "source": [
        "Define directories"
      ],
      "metadata": {}
    },
    {
      "cell_type": "code",
      "source": [
        "parentdir=\"../\"\n",
        "codedir=parentdir+\"code/\"\n",
        "datadir=parentdir+\"data/\"\n",
        "train_dir=datadir+\"TrainDataLatest_PodCastAllRounds_123567910/\"\n",
        "test_dir=datadir+\"TestDataLatest_PodCastAllRounds_123/\"\n",
        "output=parentdir+\"output/\"\n",
        "specdir=output+\"spectrogram/\"\n",
        "specdir_train=specdir+\"train/all/\"\n",
        "specdir_test=specdir+\"test/all/\"\n",
        "model_dir = output + 'model/'\n"
      ],
      "outputs": [],
      "execution_count": 3,
      "metadata": {
        "gather": {
          "logged": 1661462645977
        }
      }
    },
    {
      "cell_type": "code",
      "source": [
        "directory_filenames_train_pos = glob.glob(specdir_train + '*_pos.png')\n",
        "directory_filenames_train_neg = glob.glob(specdir_train + '*_neg.png')\n",
        "directory_filenames_test_pos = glob.glob(specdir_test + '*_pos.png')\n",
        "directory_filenames_test_neg = glob.glob(specdir_test + '*_neg.png')"
      ],
      "outputs": [],
      "execution_count": 4,
      "metadata": {
        "gather": {
          "logged": 1661462646603
        }
      }
    },
    {
      "cell_type": "markdown",
      "source": [
        " Read in training spectrograms and create training data"
      ],
      "metadata": {}
    },
    {
      "cell_type": "code",
      "source": [
        "spectrogram_pos=[]\n",
        "errors=[]\n",
        "ncol, nrow=224, 224\n",
        "for i in range(len(directory_filenames_train_pos)):\n",
        "    img=cv2.imread(directory_filenames_train_pos[i])\n",
        "    try:\n",
        "        img=cv2.resize(img, (ncol, nrow))/255.0\n",
        "    except:\n",
        "        errors.append(i)\n",
        "        pass \n",
        "    spectrogram_pos.append(img)\n",
        "spectrogram_pos=np.asarray(spectrogram_pos, dtype=object)\n",
        "del(i, img)"
      ],
      "outputs": [],
      "execution_count": 5,
      "metadata": {
        "gather": {
          "logged": 1661462936638
        }
      }
    },
    {
      "cell_type": "code",
      "source": [
        "spectrogram_neg=[]\n",
        "errors=[]\n",
        "ncol, nrow=224, 224\n",
        "for i in range(len(directory_filenames_train_neg)):\n",
        "    img=cv2.imread(directory_filenames_train_neg[i])\n",
        "    try:\n",
        "        img=cv2.resize(img, (ncol, nrow))/255.0\n",
        "    except:\n",
        "        errors.append(i)\n",
        "        pass \n",
        "    spectrogram_neg.append(img)\n",
        "spectrogram_neg=np.asarray(spectrogram_neg, dtype=object)\n",
        "del(i, img)"
      ],
      "outputs": [],
      "execution_count": 6,
      "metadata": {
        "gather": {
          "logged": 1661462985843
        }
      }
    },
    {
      "cell_type": "code",
      "source": [
        "index_pos=list(range(len(directory_filenames_train_pos)))\n",
        "index_neg=list(range(len(directory_filenames_train_neg)))\n",
        "listpos=np.full((len(directory_filenames_train_pos),1), 1.0)\n",
        "listneg=np.full((len(directory_filenames_train_neg),1), 0.0)"
      ],
      "outputs": [],
      "execution_count": 7,
      "metadata": {
        "gather": {
          "logged": 1661462986161
        }
      }
    },
    {
      "cell_type": "code",
      "source": [
        "# Split up the training data into 80% train and 20% validation. \n",
        "# There is a set aside testing data that we will not use in the training.  \n",
        "X_pos_train, X_pos_validation, y_pos_train, y_pos_validation, index_pos_train, index_pos_validation = train_test_split(spectrogram_pos, listpos, index_pos, test_size=0.2, random_state=76)\n",
        "X_neg_train, X_neg_validation, y_neg_train, y_neg_validation, index_neg_train, index_neg_validation = train_test_split(spectrogram_neg, listneg, index_neg, test_size=0.2, random_state=76)"
      ],
      "outputs": [],
      "execution_count": 8,
      "metadata": {
        "gather": {
          "logged": 1661462995664
        }
      }
    },
    {
      "cell_type": "code",
      "source": [
        "x_train=np.concatenate([X_pos_train, X_neg_train])\n",
        "y_train=np.concatenate([y_pos_train, y_neg_train])\n",
        "x_validation=np.concatenate([X_pos_validation, X_neg_validation])\n",
        "y_validation=np.concatenate([y_pos_validation, y_neg_validation])\n",
        "print(x_train.shape)\n",
        "print(y_train.shape)\n",
        "print(x_validation.shape)\n",
        "print(y_validation.shape)"
      ],
      "outputs": [
        {
          "output_type": "stream",
          "name": "stdout",
          "text": "(4329, 224, 224, 3)\n(4329, 1)\n(1084, 224, 224, 3)\n(1084, 1)\n"
        }
      ],
      "execution_count": 9,
      "metadata": {
        "gather": {
          "logged": 1661463006660
        }
      }
    },
    {
      "cell_type": "markdown",
      "source": [
        "Read in testing spectrograms and create testing data"
      ],
      "metadata": {}
    },
    {
      "cell_type": "code",
      "source": [
        "spect_test_pos=[]\n",
        "errors=[]\n",
        "ncol, nrow=224, 224\n",
        "for i in range(len(directory_filenames_test_pos)):\n",
        "    img=cv2.imread(directory_filenames_test_pos[i])\n",
        "    try:\n",
        "        img=cv2.resize(img, (ncol, nrow))/255.0\n",
        "    except:\n",
        "        errors.append(i)\n",
        "        pass \n",
        "    spect_test_pos.append(img)\n",
        "spect_test_pos=np.asarray(spect_test_pos, dtype=object)\n",
        "del(i, img)"
      ],
      "outputs": [],
      "execution_count": 10,
      "metadata": {
        "gather": {
          "logged": 1661463055243
        }
      }
    },
    {
      "cell_type": "code",
      "source": [
        "spect_test_neg=[]\n",
        "errors=[]\n",
        "ncol, nrow=224, 224\n",
        "for i in range(len(directory_filenames_test_neg)):\n",
        "    img=cv2.imread(directory_filenames_test_neg[i])\n",
        "    try:\n",
        "        img=cv2.resize(img, (ncol, nrow))/255.0\n",
        "    except:\n",
        "        errors.append(i)\n",
        "        pass \n",
        "    spect_test_neg.append(img)\n",
        "spect_test_neg=np.asarray(spect_test_neg, dtype=object)\n",
        "del(i, img)"
      ],
      "outputs": [],
      "execution_count": 11,
      "metadata": {
        "gather": {
          "logged": 1661463060497
        }
      }
    },
    {
      "cell_type": "code",
      "source": [
        "index_test_pos=list(range(len(directory_filenames_test_pos)))\n",
        "index_test_neg=list(range(len(directory_filenames_test_neg)))\n",
        "listtestpos=np.full((len(directory_filenames_test_pos),1), 1.0)\n",
        "listtestneg=np.full((len(directory_filenames_test_neg),1), 0.0)"
      ],
      "outputs": [],
      "execution_count": 12,
      "metadata": {
        "gather": {
          "logged": 1661463060819
        }
      }
    },
    {
      "cell_type": "code",
      "source": [
        "x_test=np.concatenate([spect_test_pos, spect_test_neg])\n",
        "y_test=np.concatenate([listtestpos, listtestneg])\n",
        "print(x_test.shape)\n",
        "print(y_test.shape)"
      ],
      "outputs": [
        {
          "output_type": "stream",
          "name": "stdout",
          "text": "(809, 224, 224, 3)\n(809, 1)\n"
        }
      ],
      "execution_count": 13,
      "metadata": {
        "gather": {
          "logged": 1661463062290
        }
      }
    },
    {
      "cell_type": "markdown",
      "source": [
        "Helper functions to create triplets"
      ],
      "metadata": {}
    },
    {
      "cell_type": "code",
      "source": [
        "species_id_list = [1,0]"
      ],
      "outputs": [],
      "execution_count": 14,
      "metadata": {
        "gather": {
          "logged": 1661463062731
        }
      }
    },
    {
      "cell_type": "code",
      "source": [
        "def get_image(label):\n",
        "    y = y_train\n",
        "    x = x_train\n",
        "    idx = np.random.randint(len(y))\n",
        "    while y[idx] != label:\n",
        "        idx = np.random.randint(len(y))\n",
        "    return x[idx]\n",
        "    \n",
        "def get_triplet():\n",
        "    anchor_class = 1\n",
        "    negative_class = 0\n",
        "    a, p = get_image(anchor_class), get_image(anchor_class)\n",
        "    n = get_image(negative_class)\n",
        "    return a, p, n\n",
        "\n",
        "def generate_hard_triplets(batch_size = 5, hard_batchs_size = 2):\n",
        "    while True:\n",
        "        list_a_random = []\n",
        "        list_p_random = []\n",
        "        list_n_random = []\n",
        "\n",
        "        for i in range(batch_size):\n",
        "            a, p, n = get_triplet()\n",
        "            list_a_random.append(a)\n",
        "            list_p_random.append(p)\n",
        "            list_n_random.append(n)\n",
        "            \n",
        "        A_random = np.array(list_a_random, dtype='float32')\n",
        "        P_random = np.array(list_p_random, dtype='float32')\n",
        "        N_random = np.array(list_n_random, dtype='float32')\n",
        "        \n",
        "        A_random_embedding = branch_model.predict(A_random)\n",
        "        P_random_embedding = branch_model.predict(P_random)\n",
        "        N_random_embedding = branch_model.predict(N_random)\n",
        "        \n",
        "        studybatchloss = np.sum(np.square(A_random_embedding - P_random_embedding),axis=1) - np.sum(np.square(A_random_embedding - N_random_embedding),axis=1)\n",
        "\n",
        "        hard_examples = np.argsort(studybatchloss)[::-1][:hard_batchs_size]\n",
        "        A_hard = A_random[hard_examples]\n",
        "        P_hard = P_random[hard_examples]\n",
        "        N_hard = N_random[hard_examples]\n",
        "        \n",
        "        list_a_new = []\n",
        "        list_p_new = []\n",
        "        list_n_new = []\n",
        "        \n",
        "        for i in range(batch_size - hard_batchs_size):\n",
        "            a, p, n = get_triplet()\n",
        "            list_a_new.append(a)\n",
        "            list_p_new.append(p)\n",
        "            list_n_new.append(n)\n",
        "            \n",
        "        A_new = np.array(list_a_new, dtype='float32')\n",
        "        P_new = np.array(list_p_new, dtype='float32')\n",
        "        N_new = np.array(list_n_new, dtype='float32')\n",
        "        \n",
        "        A = np.concatenate((A_hard, A_new), axis=0)\n",
        "        P = np.concatenate((P_hard, P_new), axis=0)\n",
        "        N = np.concatenate((N_hard, N_new), axis=0)\n",
        "\n",
        "        label = np.ones(batch_size)\n",
        "        yield [A, P, N], label"
      ],
      "outputs": [],
      "execution_count": 15,
      "metadata": {
        "gather": {
          "logged": 1661463063392
        }
      }
    },
    {
      "cell_type": "code",
      "source": [
        "def identity_loss(y_true, y_pred):\n",
        "    return K.mean(y_pred)\n",
        "\n",
        "def triplet_loss(x, alpha = 0.1):\n",
        "    anchor,positive,negative = x\n",
        "    pos_dist = K.sum(K.square(anchor-positive),axis=1)\n",
        "    neg_dist = K.sum(K.square(anchor-negative),axis=1)\n",
        "    basic_loss = pos_dist-neg_dist+alpha\n",
        "    loss = K.maximum(basic_loss,0.0)\n",
        "    return loss\n",
        "\n",
        "def get_branch_model(inp_shape):\n",
        "    model = DenseNet201(input_shape=inp_shape, include_top=False, weights=None, pooling='max')\n",
        "    return model\n",
        "\n",
        "def head_model(input_shape, branch_model):\n",
        "    input_1 = Input(input_shape)\n",
        "    input_2 = Input(input_shape)\n",
        "    input_3 = Input(input_shape)\n",
        "        \n",
        "    A = branch_model(input_1)\n",
        "    P = branch_model(input_2)\n",
        "    N = branch_model(input_3)\n",
        "   \n",
        "    loss = Lambda(triplet_loss)([A, P, N]) \n",
        "    model = Model(inputs=[input_1, input_2, input_3], outputs=loss)\n",
        "    #optimizer = Adam(lr = 0.0001, decay = 10e-6)\n",
        "    optimizer = Adam()\n",
        "    model.compile(loss=identity_loss, optimizer=optimizer)\n",
        "    return model"
      ],
      "outputs": [],
      "execution_count": 16,
      "metadata": {
        "gather": {
          "logged": 1661463063817
        }
      }
    },
    {
      "cell_type": "code",
      "source": [
        "img_rows, img_cols, n_channels = 224, 224, 3\n",
        "input_shape = (img_rows, img_cols, n_channels)"
      ],
      "outputs": [],
      "execution_count": 17,
      "metadata": {
        "gather": {
          "logged": 1661463064175
        }
      }
    },
    {
      "cell_type": "code",
      "source": [
        "branch_model = get_branch_model(input_shape)\n",
        "\n",
        "train_generator = generate_hard_triplets()\n",
        "batch = next(train_generator)\n",
        "\n",
        "model = head_model(input_shape, branch_model)\n",
        "model.summary()"
      ],
      "outputs": [
        {
          "output_type": "stream",
          "name": "stderr",
          "text": "2022-08-25 21:31:02.504944: I tensorflow/compiler/jit/xla_cpu_device.cc:41] Not creating XLA devices, tf_xla_enable_xla_devices not set\n2022-08-25 21:31:02.722523: I tensorflow/stream_executor/platform/default/dso_loader.cc:49] Successfully opened dynamic library libcuda.so.1\n2022-08-25 21:31:03.137992: I tensorflow/core/common_runtime/gpu/gpu_device.cc:1720] Found device 0 with properties: \npciBusID: 0001:00:00.0 name: Tesla K80 computeCapability: 3.7\ncoreClock: 0.8235GHz coreCount: 13 deviceMemorySize: 11.17GiB deviceMemoryBandwidth: 223.96GiB/s\n2022-08-25 21:31:03.138057: I tensorflow/stream_executor/platform/default/dso_loader.cc:49] Successfully opened dynamic library libcudart.so.11.0\n2022-08-25 21:31:03.879017: I tensorflow/stream_executor/platform/default/dso_loader.cc:49] Successfully opened dynamic library libcublas.so.11\n2022-08-25 21:31:03.879139: I tensorflow/stream_executor/platform/default/dso_loader.cc:49] Successfully opened dynamic library libcublasLt.so.11\n2022-08-25 21:31:04.262868: I tensorflow/stream_executor/platform/default/dso_loader.cc:49] Successfully opened dynamic library libcufft.so.10\n2022-08-25 21:31:04.445357: I tensorflow/stream_executor/platform/default/dso_loader.cc:49] Successfully opened dynamic library libcurand.so.10\n2022-08-25 21:31:05.194756: I tensorflow/stream_executor/platform/default/dso_loader.cc:49] Successfully opened dynamic library libcusolver.so.10\n2022-08-25 21:31:05.293940: I tensorflow/stream_executor/platform/default/dso_loader.cc:49] Successfully opened dynamic library libcusparse.so.11\n2022-08-25 21:31:05.320200: I tensorflow/stream_executor/platform/default/dso_loader.cc:49] Successfully opened dynamic library libcudnn.so.8\n2022-08-25 21:31:05.353908: I tensorflow/core/common_runtime/gpu/gpu_device.cc:1862] Adding visible gpu devices: 0\n2022-08-25 21:31:05.354795: I tensorflow/core/platform/cpu_feature_guard.cc:142] This TensorFlow binary is optimized with oneAPI Deep Neural Network Library (oneDNN) to use the following CPU instructions in performance-critical operations:  AVX2 FMA\nTo enable them in other operations, rebuild TensorFlow with the appropriate compiler flags.\n2022-08-25 21:31:05.355306: I tensorflow/compiler/jit/xla_gpu_device.cc:99] Not creating XLA devices, tf_xla_enable_xla_devices not set\n2022-08-25 21:31:05.356103: I tensorflow/core/common_runtime/gpu/gpu_device.cc:1720] Found device 0 with properties: \npciBusID: 0001:00:00.0 name: Tesla K80 computeCapability: 3.7\ncoreClock: 0.8235GHz coreCount: 13 deviceMemorySize: 11.17GiB deviceMemoryBandwidth: 223.96GiB/s\n2022-08-25 21:31:05.356160: I tensorflow/stream_executor/platform/default/dso_loader.cc:49] Successfully opened dynamic library libcudart.so.11.0\n2022-08-25 21:31:05.356195: I tensorflow/stream_executor/platform/default/dso_loader.cc:49] Successfully opened dynamic library libcublas.so.11\n2022-08-25 21:31:05.356227: I tensorflow/stream_executor/platform/default/dso_loader.cc:49] Successfully opened dynamic library libcublasLt.so.11\n2022-08-25 21:31:05.356259: I tensorflow/stream_executor/platform/default/dso_loader.cc:49] Successfully opened dynamic library libcufft.so.10\n2022-08-25 21:31:05.356313: I tensorflow/stream_executor/platform/default/dso_loader.cc:49] Successfully opened dynamic library libcurand.so.10\n2022-08-25 21:31:05.356347: I tensorflow/stream_executor/platform/default/dso_loader.cc:49] Successfully opened dynamic library libcusolver.so.10\n2022-08-25 21:31:05.356378: I tensorflow/stream_executor/platform/default/dso_loader.cc:49] Successfully opened dynamic library libcusparse.so.11\n2022-08-25 21:31:05.356411: I tensorflow/stream_executor/platform/default/dso_loader.cc:49] Successfully opened dynamic library libcudnn.so.8\n2022-08-25 21:31:05.358048: I tensorflow/core/common_runtime/gpu/gpu_device.cc:1862] Adding visible gpu devices: 0\n2022-08-25 21:31:05.392859: I tensorflow/stream_executor/platform/default/dso_loader.cc:49] Successfully opened dynamic library libcudart.so.11.0\n2022-08-25 21:31:15.849241: I tensorflow/core/common_runtime/gpu/gpu_device.cc:1261] Device interconnect StreamExecutor with strength 1 edge matrix:\n2022-08-25 21:31:15.849283: I tensorflow/core/common_runtime/gpu/gpu_device.cc:1267]      0 \n2022-08-25 21:31:15.849295: I tensorflow/core/common_runtime/gpu/gpu_device.cc:1280] 0:   N \n2022-08-25 21:31:15.872400: I tensorflow/core/common_runtime/gpu/gpu_device.cc:1406] Created TensorFlow device (/job:localhost/replica:0/task:0/device:GPU:0 with 10624 MB memory) -> physical GPU (device: 0, name: Tesla K80, pci bus id: 0001:00:00.0, compute capability: 3.7)\n2022-08-25 21:31:20.264618: I tensorflow/compiler/mlir/mlir_graph_optimization_pass.cc:116] None of the MLIR optimization passes are enabled (registered 2)\n2022-08-25 21:31:20.267288: I tensorflow/core/platform/profile_utils/cpu_utils.cc:112] CPU Frequency: 2596990000 Hz\n2022-08-25 21:31:23.770173: I tensorflow/stream_executor/platform/default/dso_loader.cc:49] Successfully opened dynamic library libcudnn.so.8\n2022-08-25 21:31:59.013999: W tensorflow/stream_executor/gpu/asm_compiler.cc:63] Running ptxas --version returned 256\n2022-08-25 21:32:00.050525: W tensorflow/stream_executor/gpu/redzone_allocator.cc:314] Internal: ptxas exited with non-zero error code 256, output: \nRelying on driver to perform ptx compilation. \nModify $PATH to customize ptxas location.\nThis message will be only logged once.\n2022-08-25 21:32:07.333240: I tensorflow/stream_executor/platform/default/dso_loader.cc:49] Successfully opened dynamic library libcublas.so.11\n2022-08-25 21:32:20.809584: I tensorflow/stream_executor/platform/default/dso_loader.cc:49] Successfully opened dynamic library libcublasLt.so.11\n"
        },
        {
          "output_type": "stream",
          "name": "stdout",
          "text": "Model: \"model\"\n__________________________________________________________________________________________________\nLayer (type)                    Output Shape         Param #     Connected to                     \n==================================================================================================\ninput_2 (InputLayer)            [(None, 224, 224, 3) 0                                            \n__________________________________________________________________________________________________\ninput_3 (InputLayer)            [(None, 224, 224, 3) 0                                            \n__________________________________________________________________________________________________\ninput_4 (InputLayer)            [(None, 224, 224, 3) 0                                            \n__________________________________________________________________________________________________\ndensenet201 (Functional)        (None, 1920)         18321984    input_2[0][0]                    \n                                                                 input_3[0][0]                    \n                                                                 input_4[0][0]                    \n__________________________________________________________________________________________________\nlambda (Lambda)                 (None,)              0           densenet201[0][0]                \n                                                                 densenet201[1][0]                \n                                                                 densenet201[2][0]                \n==================================================================================================\nTotal params: 18,321,984\nTrainable params: 18,092,928\nNon-trainable params: 229,056\n__________________________________________________________________________________________________\n"
        }
      ],
      "execution_count": 18,
      "metadata": {
        "gather": {
          "logged": 1661464239489
        }
      }
    },
    {
      "cell_type": "code",
      "source": [
        "featured_img = branch_model.predict(np.ones((1,img_rows,img_cols,n_channels)))\n",
        "print('length of vector representation for image:',len(featured_img[0]))\n",
        "print(featured_img)"
      ],
      "outputs": [
        {
          "output_type": "stream",
          "name": "stdout",
          "text": "length of vector representation for image: 1920\n[[0.03079385 0.05224643 0.10428659 ... 0.04396043 0.01635477 0.05069489]]\n"
        }
      ],
      "execution_count": 19,
      "metadata": {
        "gather": {
          "logged": 1661465343220
        }
      }
    },
    {
      "cell_type": "code",
      "source": [
        "history = model.fit_generator(train_generator, \n",
        "                              epochs=50, \n",
        "                              verbose=1,\n",
        "                              steps_per_epoch=500\n",
        "                             )"
      ],
      "outputs": [
        {
          "output_type": "stream",
          "name": "stderr",
          "text": "/anaconda/envs/azureml_py38/lib/python3.8/site-packages/tensorflow/python/keras/engine/training.py:1844: UserWarning: `Model.fit_generator` is deprecated and will be removed in a future version. Please use `Model.fit`, which supports generators.\n  warnings.warn('`Model.fit_generator` is deprecated and '\n"
        },
        {
          "output_type": "stream",
          "name": "stdout",
          "text": "Epoch 1/50\n500/500 [==============================] - 2543s 1s/step - loss: 62.3720\b\b\b\b\b\b\b\b\b\b\b\b\b\b\b\b\b\b\b\b\b\b\b\b\b\b\b\b\b\b\b\b\b\b\b\b\b\b\b\b\b\b\b\b\b\b\b\b\b\b\b\b\b\b\b\b\b\b\b\b\b\b\b\b\b\b\b\b\b\b\b\b\b\b\b\b\nEpoch 2/50\n500/500 [==============================] - 686s 1s/step - loss: 0.8765\b\b\b\b\b\b\b\b\b\b\b\b\b\b\b\b\b\b\b\b\b\b\b\b\b\b\b\b\b\b\b\b\b\b\b\b\b\b\b\b\b\b\b\b\b\b\b\b\b\b\b\b\b\b\b\b\b\b\b\b\b\b\b\b\b\b\b\b\b\b\b\b\b\b\nEpoch 3/50\n500/500 [==============================] - 685s 1s/step - loss: 0.5218\b\b\b\b\b\b\b\b\b\b\b\b\b\b\b\b\b\b\b\b\b\b\b\b\b\b\b\b\b\b\b\b\b\b\b\b\b\b\b\b\b\b\b\b\b\b\b\b\b\b\b\b\b\b\b\b\b\b\b\b\b\b\b\b\b\b\b\b\b\b\b\b\b\b\nEpoch 4/50\n500/500 [==============================] - 685s 1s/step - loss: 0.0176\b\b\b\b\b\b\b\b\b\b\b\b\b\b\b\b\b\b\b\b\b\b\b\b\b\b\b\b\b\b\b\b\b\b\b\b\b\b\b\b\b\b\b\b\b\b\b\b\b\b\b\b\b\b\b\b\b\b\b\b\b\b\b\b\b\b\b\b\b\b\b\b\b\b\nEpoch 5/50\n500/500 [==============================] - 684s 1s/step - loss: 0.0127\b\b\b\b\b\b\b\b\b\b\b\b\b\b\b\b\b\b\b\b\b\b\b\b\b\b\b\b\b\b\b\b\b\b\b\b\b\b\b\b\b\b\b\b\b\b\b\b\b\b\b\b\b\b\b\b\b\b\b\b\b\b\b\b\b\b\b\b\b\b\b\b\b\b\nEpoch 6/50\n500/500 [==============================] - 685s 1s/step - loss: 0.0162\b\b\b\b\b\b\b\b\b\b\b\b\b\b\b\b\b\b\b\b\b\b\b\b\b\b\b\b\b\b\b\b\b\b\b\b\b\b\b\b\b\b\b\b\b\b\b\b\b\b\b\b\b\b\b\b\b\b\b\b\b\b\b\b\b\b\b\b\b\b\b\b\b\b\nEpoch 7/50\n500/500 [==============================] - 685s 1s/step - loss: 0.0085\b\b\b\b\b\b\b\b\b\b\b\b\b\b\b\b\b\b\b\b\b\b\b\b\b\b\b\b\b\b\b\b\b\b\b\b\b\b\b\b\b\b\b\b\b\b\b\b\b\b\b\b\b\b\b\b\b\b\b\b\b\b\b\b\b\b\b\b\b\b\b\b\b\b\nEpoch 8/50\n500/500 [==============================] - 685s 1s/step - loss: 0.1875\b\b\b\b\b\b\b\b\b\b\b\b\b\b\b\b\b\b\b\b\b\b\b\b\b\b\b\b\b\b\b\b\b\b\b\b\b\b\b\b\b\b\b\b\b\b\b\b\b\b\b\b\b\b\b\b\b\b\b\b\b\b\b\b\b\b\b\b\b\b\b\b\b\b\nEpoch 9/50\n500/500 [==============================] - 685s 1s/step - loss: 0.0278\b\b\b\b\b\b\b\b\b\b\b\b\b\b\b\b\b\b\b\b\b\b\b\b\b\b\b\b\b\b\b\b\b\b\b\b\b\b\b\b\b\b\b\b\b\b\b\b\b\b\b\b\b\b\b\b\b\b\b\b\b\b\b\b\b\b\b\b\b\b\b\b\b\b\nEpoch 10/50\n500/500 [==============================] - 686s 1s/step - loss: 0.0426\b\b\b\b\b\b\b\b\b\b\b\b\b\b\b\b\b\b\b\b\b\b\b\b\b\b\b\b\b\b\b\b\b\b\b\b\b\b\b\b\b\b\b\b\b\b\b\b\b\b\b\b\b\b\b\b\b\b\b\b\b\b\b\b\b\b\b\b\b\b\b\b\b\b\nEpoch 11/50\n500/500 [==============================] - 686s 1s/step - loss: 0.0013\b\b\b\b\b\b\b\b\b\b\b\b\b\b\b\b\b\b\b\b\b\b\b\b\b\b\b\b\b\b\b\b\b\b\b\b\b\b\b\b\b\b\b\b\b\b\b\b\b\b\b\b\b\b\b\b\b\b\b\b\b\b\b\b\b\b\b\b\b\b\b\b\b\b\nEpoch 12/50\n500/500 [==============================] - 684s 1s/step - loss: 0.0086\b\b\b\b\b\b\b\b\b\b\b\b\b\b\b\b\b\b\b\b\b\b\b\b\b\b\b\b\b\b\b\b\b\b\b\b\b\b\b\b\b\b\b\b\b\b\b\b\b\b\b\b\b\b\b\b\b\b\b\b\b\b\b\b\b\b\b\b\b\b\b\b\b\b\nEpoch 13/50\n500/500 [==============================] - 685s 1s/step - loss: 0.0658\b\b\b\b\b\b\b\b\b\b\b\b\b\b\b\b\b\b\b\b\b\b\b\b\b\b\b\b\b\b\b\b\b\b\b\b\b\b\b\b\b\b\b\b\b\b\b\b\b\b\b\b\b\b\b\b\b\b\b\b\b\b\b\b\b\b\b\b\b\b\b\b\b\b\nEpoch 14/50\n500/500 [==============================] - 686s 1s/step - loss: 17.7864\b\b\b\b\b\b\b\b\b\b\b\b\b\b\b\b\b\b\b\b\b\b\b\b\b\b\b\b\b\b\b\b\b\b\b\b\b\b\b\b\b\b\b\b\b\b\b\b\b\b\b\b\b\b\b\b\b\b\b\b\b\b\b\b\b\b\b\b\b\nEpoch 15/50\n500/500 [==============================] - 685s 1s/step - loss: 0.0280\b\b\b\b\b\b\b\b\b\b\b\b\b\b\b\b\b\b\b\b\b\b\b\b\b\b\b\b\b\b\b\b\b\b\b\b\b\b\b\b\b\b\b\b\b\b\b\b\b\b\b\b\b\b\b\b\b\b\b\b\b\b\b\b\b\b\b\b\b\b\b\b\b\b\nEpoch 16/50\n500/500 [==============================] - 685s 1s/step - loss: 0.0152\b\b\b\b\b\b\b\b\b\b\b\b\b\b\b\b\b\b\b\b\b\b\b\b\b\b\b\b\b\b\b\b\b\b\b\b\b\b\b\b\b\b\b\b\b\b\b\b\b\b\b\b\b\b\b\b\b\b\b\b\b\b\b\b\b\b\b\b\b\b\b\b\b\b\nEpoch 17/50\n500/500 [==============================] - 685s 1s/step - loss: 0.0169\b\b\b\b\b\b\b\b\b\b\b\b\b\b\b\b\b\b\b\b\b\b\b\b\b\b\b\b\b\b\b\b\b\b\b\b\b\b\b\b\b\b\b\b\b\b\b\b\b\b\b\b\b\b\b\b\b\b\b\b\b\b\b\b\b\b\b\b\b\b\b\b\b\b\nEpoch 18/50\n500/500 [==============================] - 685s 1s/step - loss: 0.0183\b\b\b\b\b\b\b\b\b\b\b\b\b\b\b\b\b\b\b\b\b\b\b\b\b\b\b\b\b\b\b\b\b\b\b\b\b\b\b\b\b\b\b\b\b\b\b\b\b\b\b\b\b\b\b\b\b\b\b\b\b\b\b\b\b\b\b\b\b\b\b\b\b\b\nEpoch 19/50\n500/500 [==============================] - 685s 1s/step - loss: 0.0075\b\b\b\b\b\b\b\b\b\b\b\b\b\b\b\b\b\b\b\b\b\b\b\b\b\b\b\b\b\b\b\b\b\b\b\b\b\b\b\b\b\b\b\b\b\b\b\b\b\b\b\b\b\b\b\b\b\b\b\b\b\b\b\b\b\b\b\b\b\b\b\b\b\b\nEpoch 20/50\n500/500 [==============================] - 683s 1s/step - loss: 0.0231\b\b\b\b\b\b\b\b\b\b\b\b\b\b\b\b\b\b\b\b\b\b\b\b\b\b\b\b\b\b\b\b\b\b\b\b\b\b\b\b\b\b\b\b\b\b\b\b\b\b\b\b\b\b\b\b\b\b\b\b\b\b\b\b\b\b\b\b\b\b\b\b\b\b\nEpoch 21/50\n500/500 [==============================] - 683s 1s/step - loss: 0.0182\b\b\b\b\b\b\b\b\b\b\b\b\b\b\b\b\b\b\b\b\b\b\b\b\b\b\b\b\b\b\b\b\b\b\b\b\b\b\b\b\b\b\b\b\b\b\b\b\b\b\b\b\b\b\b\b\b\b\b\b\b\b\b\b\b\b\b\b\b\b\b\b\b\b\nEpoch 22/50\n500/500 [==============================] - 685s 1s/step - loss: 0.0145\b\b\b\b\b\b\b\b\b\b\b\b\b\b\b\b\b\b\b\b\b\b\b\b\b\b\b\b\b\b\b\b\b\b\b\b\b\b\b\b\b\b\b\b\b\b\b\b\b\b\b\b\b\b\b\b\b\b\b\b\b\b\b\b\b\b\b\b\b\b\b\b\b\b\nEpoch 23/50\n500/500 [==============================] - 684s 1s/step - loss: 0.0047\b\b\b\b\b\b\b\b\b\b\b\b\b\b\b\b\b\b\b\b\b\b\b\b\b\b\b\b\b\b\b\b\b\b\b\b\b\b\b\b\b\b\b\b\b\b\b\b\b\b\b\b\b\b\b\b\b\b\b\b\b\b\b\b\b\b\b\b\b\b\b\b\b\b\nEpoch 24/50\n500/500 [==============================] - 683s 1s/step - loss: 0.0099\b\b\b\b\b\b\b\b\b\b\b\b\b\b\b\b\b\b\b\b\b\b\b\b\b\b\b\b\b\b\b\b\b\b\b\b\b\b\b\b\b\b\b\b\b\b\b\b\b\b\b\b\b\b\b\b\b\b\b\b\b\b\b\b\b\b\b\b\b\b\b\b\b\b\nEpoch 25/50\n500/500 [==============================] - 683s 1s/step - loss: 0.0497\b\b\b\b\b\b\b\b\b\b\b\b\b\b\b\b\b\b\b\b\b\b\b\b\b\b\b\b\b\b\b\b\b\b\b\b\b\b\b\b\b\b\b\b\b\b\b\b\b\b\b\b\b\b\b\b\b\b\b\b\b\b\b\b\b\b\b\b\b\b\b\b\b\b\nEpoch 26/50\n500/500 [==============================] - 685s 1s/step - loss: 0.0029\b\b\b\b\b\b\b\b\b\b\b\b\b\b\b\b\b\b\b\b\b\b\b\b\b\b\b\b\b\b\b\b\b\b\b\b\b\b\b\b\b\b\b\b\b\b\b\b\b\b\b\b\b\b\b\b\b\b\b\b\b\b\b\b\b\b\b\b\b\b\b\b\b\b\nEpoch 27/50\n500/500 [==============================] - 684s 1s/step - loss: 0.0564\b\b\b\b\b\b\b\b\b\b\b\b\b\b\b\b\b\b\b\b\b\b\b\b\b\b\b\b\b\b\b\b\b\b\b\b\b\b\b\b\b\b\b\b\b\b\b\b\b\b\b\b\b\b\b\b\b\b\b\b\b\b\b\b\b\b\nEpoch 28/50\n500/500 [==============================] - 683s 1s/step - loss: 0.0111\b\b\b\b\b\b\b\b\b\b\b\b\b\b\b\b\b\b\b\b\b\b\b\b\b\b\b\b\b\b\b\b\b\b\b\b\b\b\b\b\b\b\b\b\b\b\b\b\b\b\b\b\b\b\b\b\b\b\b\b\b\b\b\b\b\b\b\b\b\b\b\b\b\b\nEpoch 29/50\n500/500 [==============================] - 684s 1s/step - loss: 0.0139\b\b\b\b\b\b\b\b\b\b\b\b\b\b\b\b\b\b\b\b\b\b\b\b\b\b\b\b\b\b\b\b\b\b\b\b\b\b\b\b\b\b\b\b\b\b\b\b\b\b\b\b\b\b\b\b\b\b\b\b\b\b\b\b\b\b\nEpoch 30/50\n500/500 [==============================] - 684s 1s/step - loss: 0.0036\b\b\b\b\b\b\b\b\b\b\b\b\b\b\b\b\b\b\b\b\b\b\b\b\b\b\b\b\b\b\b\b\b\b\b\b\b\b\b\b\b\b\b\b\b\b\b\b\b\b\b\b\b\b\b\b\b\b\b\b\b\b\b\b\b\b\b\b\b\b\b\b\b\b\nEpoch 31/50\n500/500 [==============================] - 685s 1s/step - loss: 0.0055\b\b\b\b\b\b\b\b\b\b\b\b\b\b\b\b\b\b\b\b\b\b\b\b\b\b\b\b\b\b\b\b\b\b\b\b\b\b\b\b\b\b\b\b\b\b\b\b\b\b\b\b\b\b\b\b\b\b\b\b\b\b\b\b\b\b\b\b\b\b\b\b\b\b\nEpoch 32/50\n500/500 [==============================] - 683s 1s/step - loss: 0.0183\b\b\b\b\b\b\b\b\b\b\b\b\b\b\b\b\b\b\b\b\b\b\b\b\b\b\b\b\b\b\b\b\b\b\b\b\b\b\b\b\b\b\b\b\b\b\b\b\b\b\b\b\b\b\b\b\b\b\b\b\b\b\b\b\b\b\b\b\b\b\b\b\b\b\nEpoch 33/50\n500/500 [==============================] - 684s 1s/step - loss: 0.0259\b\b\b\b\b\b\b\b\b\b\b\b\b\b\b\b\b\b\b\b\b\b\b\b\b\b\b\b\b\b\b\b\b\b\b\b\b\b\b\b\b\b\b\b\b\b\b\b\b\b\b\b\b\b\b\b\b\b\b\b\b\b\b\b\b\b\b\b\b\b\b\b\b\b\nEpoch 34/50\n500/500 [==============================] - 684s 1s/step - loss: 0.0174\b\b\b\b\b\b\b\b\b\b\b\b\b\b\b\b\b\b\b\b\b\b\b\b\b\b\b\b\b\b\b\b\b\b\b\b\b\b\b\b\b\b\b\b\b\b\b\b\b\b\b\b\b\b\b\b\b\b\b\b\b\b\b\b\b\b\b\b\b\b\b\b\b\b\nEpoch 35/50\n500/500 [==============================] - 684s 1s/step - loss: 0.0088\b\b\b\b\b\b\b\b\b\b\b\b\b\b\b\b\b\b\b\b\b\b\b\b\b\b\b\b\b\b\b\b\b\b\b\b\b\b\b\b\b\b\b\b\b\b\b\b\b\b\b\b\b\b\b\b\b\b\b\b\b\b\b\b\b\b\b\b\b\b\b\b\b\b\nEpoch 36/50\n500/500 [==============================] - 684s 1s/step - loss: 0.0032\b\b\b\b\b\b\b\b\b\b\b\b\b\b\b\b\b\b\b\b\b\b\b\b\b\b\b\b\b\b\b\b\b\b\b\b\b\b\b\b\b\b\b\b\b\b\b\b\b\b\b\b\b\b\b\b\b\b\b\b\b\b\b\b\b\b\b\b\b\b\b\b\b\b\nEpoch 37/50\n500/500 [==============================] - 685s 1s/step - loss: 0.0211\b\b\b\b\b\b\b\b\b\b\b\b\b\b\b\b\b\b\b\b\b\b\b\b\b\b\b\b\b\b\b\b\b\b\b\b\b\b\b\b\b\b\b\b\b\b\b\b\b\b\b\b\b\b\b\b\b\b\b\b\b\b\b\b\b\b\b\b\b\b\b\b\b\b\nEpoch 38/50\n500/500 [==============================] - 684s 1s/step - loss: 0.0064\b\b\b\b\b\b\b\b\b\b\b\b\b\b\b\b\b\b\b\b\b\b\b\b\b\b\b\b\b\b\b\b\b\b\b\b\b\b\b\b\b\b\b\b\b\b\b\b\b\b\b\b\b\b\b\b\b\b\b\b\b\b\b\b\b\b\b\b\b\b\b\b\b\b\nEpoch 39/50\n500/500 [==============================] - 684s 1s/step - loss: 0.0165\b\b\b\b\b\b\b\b\b\b\b\b\b\b\b\b\b\b\b\b\b\b\b\b\b\b\b\b\b\b\b\b\b\b\b\b\b\b\b\b\b\b\b\b\b\b\b\b\b\b\b\b\b\b\b\b\b\b\b\b\b\b\b\b\b\b\nEpoch 40/50\n500/500 [==============================] - 684s 1s/step - loss: 0.0081\b\b\b\b\b\b\b\b\b\b\b\b\b\b\b\b\b\b\b\b\b\b\b\b\b\b\b\b\b\b\b\b\b\b\b\b\b\b\b\b\b\b\b\b\b\b\b\b\b\b\b\b\b\b\b\b\b\b\b\b\b\b\b\b\b\b\nEpoch 41/50\n500/500 [==============================] - 684s 1s/step - loss: 0.0023\b\b\b\b\b\b\b\b\b\b\b\b\b\b\b\b\b\b\b\b\b\b\b\b\b\b\b\b\b\b\b\b\b\b\b\b\b\b\b\b\b\b\b\b\b\b\b\b\b\b\b\b\b\b\b\b\b\b\b\b\b\b\b\b\b\b\b\b\b\b\b\b\b\b\nEpoch 42/50\n500/500 [==============================] - 684s 1s/step - loss: 0.0147\b\b\b\b\b\b\b\b\b\b\b\b\b\b\b\b\b\b\b\b\b\b\b\b\b\b\b\b\b\b\b\b\b\b\b\b\b\b\b\b\b\b\b\b\b\b\b\b\b\b\b\b\b\b\b\b\b\b\b\b\b\b\b\b\b\b\nEpoch 43/50\n500/500 [==============================] - 683s 1s/step - loss: 0.0076\b\b\b\b\b\b\b\b\b\b\b\b\b\b\b\b\b\b\b\b\b\b\b\b\b\b\b\b\b\b\b\b\b\b\b\b\b\b\b\b\b\b\b\b\b\b\b\b\b\b\b\b\b\b\b\b\b\b\b\b\b\b\b\b\b\b\b\b\b\b\b\b\b\b\nEpoch 44/50\n500/500 [==============================] - 683s 1s/step - loss: 0.0027\b\b\b\b\b\b\b\b\b\b\b\b\b\b\b\b\b\b\b\b\b\b\b\b\b\b\b\b\b\b\b\b\b\b\b\b\b\b\b\b\b\b\b\b\b\b\b\b\b\b\b\b\b\b\b\b\b\b\b\b\b\b\b\b\b\b\b\b\b\b\b\b\b\b\nEpoch 45/50\n500/500 [==============================] - 683s 1s/step - loss: 0.0033\b\b\b\b\b\b\b\b\b\b\b\b\b\b\b\b\b\b\b\b\b\b\b\b\b\b\b\b\b\b\b\b\b\b\b\b\b\b\b\b\b\b\b\b\b\b\b\b\b\b\b\b\b\b\b\b\b\b\b\b\b\b\b\b\b\b\b\b\b\b\b\b\b\b\nEpoch 46/50\n500/500 [==============================] - 685s 1s/step - loss: 0.0845\b\b\b\b\b\b\b\b\b\b\b\b\b\b\b\b\b\b\b\b\b\b\b\b\b\b\b\b\b\b\b\b\b\b\b\b\b\b\b\b\b\b\b\b\b\b\b\b\b\b\b\b\b\b\b\b\b\b\b\b\b\b\b\b\b\b\b\b\b\b\b\b\b\b\nEpoch 47/50\n500/500 [==============================] - 683s 1s/step - loss: 0.0036\b\b\b\b\b\b\b\b\b\b\b\b\b\b\b\b\b\b\b\b\b\b\b\b\b\b\b\b\b\b\b\b\b\b\b\b\b\b\b\b\b\b\b\b\b\b\b\b\b\b\b\b\b\b\b\b\b\b\b\b\b\b\b\b\b\b\b\b\b\b\b\b\b\b\nEpoch 48/50\n500/500 [==============================] - 684s 1s/step - loss: 0.0038\b\b\b\b\b\b\b\b\b\b\b\b\b\b\b\b\b\b\b\b\b\b\b\b\b\b\b\b\b\b\b\b\b\b\b\b\b\b\b\b\b\b\b\b\b\b\b\b\b\b\b\b\b\b\b\b\b\b\b\b\b\b\b\b\b\b\b\b\b\b\b\b\b\b\nEpoch 49/50\n500/500 [==============================] - 684s 1s/step - loss: 0.0030\b\b\b\b\b\b\b\b\b\b\b\b\b\b\b\b\b\b\b\b\b\b\b\b\b\b\b\b\b\b\b\b\b\b\b\b\b\b\b\b\b\b\b\b\b\b\b\b\b\b\b\b\b\b\b\b\b\b\b\b\b\b\b\b\b\b\b\b\b\b\b\b\b\b\nEpoch 50/50\n500/500 [==============================] - 682s 1s/step - loss: 0.0014\b\b\b\b\b\b\b\b\b\b\b\b\b\b\b\b\b\b\b\b\b\b\b\b\b\b\b\b\b\b\b\b\b\b\b\b\b\b\b\b\b\b\b\b\b\b\b\b\b\b\b\b\b\b\b\b\b\b\b\b\b\b\b\b\b\b\b\b\b\b\b\b\b\b\n"
        }
      ],
      "execution_count": 20,
      "metadata": {
        "gather": {
          "logged": 1661501415560
        }
      }
    },
    {
      "cell_type": "code",
      "source": [
        "plt.plot(history.history['loss'])\n",
        "plt.title('Training Losses',size = 15)\n",
        "plt.ylabel('loss')\n",
        "plt.xlabel('epoch')\n",
        "plt.legend(['training loss'], loc='upper right')\n",
        "plt.show()"
      ],
      "outputs": [
        {
          "output_type": "display_data",
          "data": {
            "text/plain": "<Figure size 432x288 with 1 Axes>",
            "image/png": "[encoded data removed]"
          },
          "metadata": {
            "needs_background": "light"
          }
        }
      ],
      "execution_count": 21,
      "metadata": {
        "gather": {
          "logged": 1661501416036
        }
      }
    },
    {
      "cell_type": "code",
      "source": [
        "x_train=x_train.astype('float32')\n",
        "y_train=y_train.astype('float32')\n",
        "x_validation=x_validation.astype('float32')\n",
        "y_validation=y_validation.astype('float32')\n",
        "x_test=x_test.astype('float32')\n",
        "y_test=y_test.astype('float32')"
      ],
      "outputs": [],
      "execution_count": 22,
      "metadata": {
        "jupyter": {
          "source_hidden": false,
          "outputs_hidden": false
        },
        "nteract": {
          "transient": {
            "deleting": false
          }
        },
        "gather": {
          "logged": 1661501460876
        }
      }
    },
    {
      "cell_type": "code",
      "source": [
        "x_train_embedding = branch_model.predict(x_train)\n",
        "x_test_embedding = branch_model.predict(x_test)\n",
        "\n",
        "tsne = TSNE(n_components=2, random_state= 4)\n",
        "train_tsne_embeds = tsne.fit_transform(x_train_embedding)\n",
        "test_tsne_embeds = tsne.fit_transform(x_test_embedding)"
      ],
      "outputs": [
        {
          "output_type": "stream",
          "name": "stderr",
          "text": "2022-08-26 08:11:00.713976: W tensorflow/core/framework/cpu_allocator_impl.cc:80] Allocation of 2606542848 exceeds 10% of free system memory.\n2022-08-26 08:50:20.024081: W tensorflow/core/framework/cpu_allocator_impl.cc:80] Allocation of 487108608 exceeds 10% of free system memory.\n"
        }
      ],
      "execution_count": 23,
      "metadata": {
        "gather": {
          "logged": 1661503878714
        }
      }
    },
    {
      "cell_type": "code",
      "source": [
        "y_train_labels=['Positive Call' if v==1 else 'Negative Call' for v in y_train.reshape(y_train.shape[0],)]"
      ],
      "outputs": [],
      "execution_count": 24,
      "metadata": {
        "jupyter": {
          "source_hidden": false,
          "outputs_hidden": false
        },
        "nteract": {
          "transient": {
            "deleting": false
          }
        },
        "gather": {
          "logged": 1661503879180
        }
      }
    },
    {
      "cell_type": "code",
      "source": [
        "scatterDF =  pd.DataFrame(\n",
        "    {'X': train_tsne_embeds[:,0],\n",
        "     'Y': train_tsne_embeds[:,1],\n",
        "     'Label': y_train_labels\n",
        "    })\n",
        "\n",
        "scatter_plot = sns.lmplot(data=scatterDF, x='X', y='Y', hue='Label', fit_reg=False, legend=False)\n",
        "\n",
        "legend = scatter_plot.ax.legend(bbox_to_anchor=[1, 0.75],\n",
        "                         title=\"label\", fancybox=True)\n",
        "\n",
        "for i, text in enumerate(legend.get_texts()):\n",
        "    plt.setp(text,color = 'black')"
      ],
      "outputs": [
        {
          "output_type": "display_data",
          "data": {
            "text/plain": "<Figure size 360x360 with 1 Axes>",
            "image/png": "[encoded data removed]"
          },
          "metadata": {
            "needs_background": "light"
          }
        }
      ],
      "execution_count": 25,
      "metadata": {
        "gather": {
          "logged": 1661503879740
        }
      }
    },
    {
      "cell_type": "code",
      "source": [
        "y_test_labels=['Positive Call' if v==1 else 'Negative Call' for v in y_test.reshape(y_test.shape[0],)]"
      ],
      "outputs": [],
      "execution_count": 26,
      "metadata": {
        "jupyter": {
          "source_hidden": false,
          "outputs_hidden": false
        },
        "nteract": {
          "transient": {
            "deleting": false
          }
        },
        "gather": {
          "logged": 1661503880352
        }
      }
    },
    {
      "cell_type": "code",
      "source": [
        "scatterDF =  pd.DataFrame(\n",
        "    {'X': test_tsne_embeds[:,0],\n",
        "     'Y': test_tsne_embeds[:,1],\n",
        "     'Label': y_test_labels\n",
        "    })\n",
        "\n",
        "scatter_plot = sns.lmplot(data=scatterDF, x='X', y='Y', hue='Label', fit_reg=False, legend=False)\n",
        "legend = scatter_plot.ax.legend(bbox_to_anchor=[1, 0.75],\n",
        "                         title=\"label\", fancybox=True)\n",
        "\n",
        "for i, text in enumerate(legend.get_texts()):\n",
        "    plt.setp(text,color = 'black')"
      ],
      "outputs": [
        {
          "output_type": "display_data",
          "data": {
            "text/plain": "<Figure size 360x360 with 1 Axes>",
            "image/png": "[encoded data removed]"
          },
          "metadata": {
            "needs_background": "light"
          }
        }
      ],
      "execution_count": 27,
      "metadata": {
        "gather": {
          "logged": 1661503880890
        }
      }
    },
    {
      "cell_type": "code",
      "source": [
        "if not os.path.exists(model_dir):\n",
        "    os.makedirs(model_dir)\n",
        "\n",
        "branch_model.save_weights(model_dir + 'weights_classification_siamese_network_50epoch.h5')"
      ],
      "outputs": [],
      "execution_count": 28,
      "metadata": {
        "gather": {
          "logged": 1661503881296
        }
      }
    },
    {
      "cell_type": "markdown",
      "source": [
        "Build classification model"
      ],
      "metadata": {}
    },
    {
      "cell_type": "code",
      "source": [
        "spectrogram_filenames_test = directory_filenames_test_pos + directory_filenames_test_neg\n",
        "print(len(directory_filenames_test_neg), len(directory_filenames_test_pos), len(spectrogram_filenames_test))"
      ],
      "outputs": [
        {
          "output_type": "stream",
          "name": "stdout",
          "text": "78 731 809\n"
        }
      ],
      "execution_count": 29,
      "metadata": {
        "jupyter": {
          "source_hidden": false,
          "outputs_hidden": false
        },
        "nteract": {
          "transient": {
            "deleting": false
          }
        },
        "gather": {
          "logged": 1661503881656
        }
      }
    },
    {
      "cell_type": "code",
      "source": [
        "def dist_diff_square(a,b):\n",
        "    return np.sum(np.square(a-b))\n",
        "\n",
        "def pred(k_nearest_neighbors):\n",
        "    pred_test = pd.DataFrame()\n",
        "    pred_test['spectrogram_filename'] = [spectrogram_filename.split('/')[-1] for spectrogram_filename in spectrogram_filenames_test]\n",
        "    pred_test['true_species_id'] = y_test\n",
        "    pred_test['pred_species_id'] = None\n",
        "    pred_test['pred_correct'] = 0\n",
        "    for i in range(len(pred_test)):\n",
        "        distance_with_each_species = []\n",
        "        for species_id in species_id_list:\n",
        "            species_id_train_index = [index for index, x in enumerate(y_train) if x == species_id]\n",
        "            x_train_embedding_species_id = x_train_embedding[species_id_train_index]\n",
        "            embedding_distance_species_id = [dist_diff_square(x_test_embedding[i], embedding) for embedding in x_train_embedding_species_id] \n",
        "            k_nearest_neighbors_species_id = sort(embedding_distance_species_id)[:k_nearest_neighbors]\n",
        "            distance_with_each_species.append(mean(k_nearest_neighbors_species_id))\n",
        "        most_similar_species_sorted = [species_id_list[i] for i in np.argsort(distance_with_each_species)]\n",
        "        pred_test.at[i,'pred_species_id'] = most_similar_species_sorted[0]\n",
        "        pred_test.at[i, 'pred_correct'] = int(y_test[i]==most_similar_species_sorted[0])\n",
        "    return pred_test"
      ],
      "outputs": [],
      "execution_count": 30,
      "metadata": {
        "gather": {
          "logged": 1661503882034
        }
      }
    },
    {
      "cell_type": "code",
      "source": [
        "pred_test_1_neighbor = pred(k_nearest_neighbors = 1)\n",
        "pred_test_3_neighbor = pred(k_nearest_neighbors = 3)\n",
        "pred_test_5_neighbor = pred(k_nearest_neighbors = 5)\n",
        "pred_test_10_neighbor = pred(k_nearest_neighbors = 10)\n",
        "\n",
        "print('accuracy for test set with closest 1 neighbor: ', \"{0:.2%}\".format(sum(pred_test_1_neighbor.pred_correct) / len(pred_test_1_neighbor)))\n",
        "print('accuracy for test set with closest 3 neighbors: ', \"{0:.2%}\".format(sum(pred_test_3_neighbor.pred_correct) / len(pred_test_3_neighbor)))\n",
        "print('accuracy for test set with closest 5 neighbors: ', \"{0:.2%}\".format(sum(pred_test_5_neighbor.pred_correct) / len(pred_test_5_neighbor)))\n",
        "print('accuracy for test set with closest 10 neighbors: ', \"{0:.2%}\".format(sum(pred_test_10_neighbor.pred_correct) / len(pred_test_10_neighbor)))"
      ],
      "outputs": [
        {
          "output_type": "stream",
          "name": "stdout",
          "text": "accuracy for test set with closest 1 neighbor:  91.97%\naccuracy for test set with closest 3 neighbors:  92.83%\naccuracy for test set with closest 5 neighbors:  92.95%\naccuracy for test set with closest 10 neighbors:  93.20%\n"
        }
      ],
      "execution_count": 31,
      "metadata": {
        "gather": {
          "logged": 1661504092913
        },
        "jupyter": {
          "outputs_hidden": false
        }
      }
    },
    {
      "cell_type": "code",
      "source": [
        "pred_test_1_neighbor.to_csv(output+'snn50e_pred1neighbor.csv', index=False)\n",
        "pred_test_3_neighbor.to_csv(output+'snn50e_pred3neighbor.csv', index=False)\n",
        "pred_test_5_neighbor.to_csv(output+'snn50e_pred5neighbor.csv', index=False)\n",
        "pred_test_10_neighbor.to_csv(output+'snn50e_pred10neighbor.csv', index=False)"
      ],
      "outputs": [],
      "execution_count": 32,
      "metadata": {
        "jupyter": {
          "source_hidden": false,
          "outputs_hidden": false
        },
        "nteract": {
          "transient": {
            "deleting": false
          }
        },
        "gather": {
          "logged": 1661504093345
        }
      }
    },
    {
      "cell_type": "code",
      "source": [
        "confusion_matrix = pd.crosstab(pred_test_10_neighbor['true_species_id'], pred_test_10_neighbor['pred_species_id'], rownames=['Actual'], colnames=['Predicted'])\n",
        "print (confusion_matrix)"
      ],
      "outputs": [
        {
          "output_type": "stream",
          "name": "stdout",
          "text": "Predicted   0    1\nActual            \n0.0        24   54\n1.0         1  730\n"
        }
      ],
      "execution_count": 33,
      "metadata": {
        "gather": {
          "logged": 1661504093777
        }
      }
    }
  ],
  "metadata": {
    "kernelspec": {
      "name": "python3",
      "language": "python",
      "display_name": "Python 3 (ipykernel)"
    },
    "language_info": {
      "name": "python",
      "version": "3.8.13",
      "mimetype": "text/x-python",
      "codemirror_mode": {
        "name": "ipython",
        "version": 3
      },
      "pygments_lexer": "ipython3",
      "nbconvert_exporter": "python",
      "file_extension": ".py"
    },
    "orig_nbformat": 4,
    "vscode": {
      "interpreter": {
        "hash": "aee8b7b246df8f9039afb4144a1f6fd8d2ca17a180786b69acc140d282b71a49"
      }
    },
    "kernel_info": {
      "name": "python3"
    },
    "microsoft": {
      "host": {
        "AzureML": {
          "notebookHasBeenCompleted": true
        }
      }
    },
    "nteract": {
      "version": "nteract-front-end@1.0.0"
    }
  },
  "nbformat": 4,
  "nbformat_minor": 2
}