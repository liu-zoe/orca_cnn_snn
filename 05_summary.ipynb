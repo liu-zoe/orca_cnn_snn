{
 "cells": [
  {
   "cell_type": "markdown",
   "metadata": {},
   "source": [
    "# Identifying SRKW Orca Calls using CNN and SNN\n",
    "## 05-Summary"
   ]
  },
  {
   "cell_type": "markdown",
   "metadata": {},
   "source": [
    "Adapting the code from *Detecting, classifying, and counting blue whale calls with Siamese neural networks*, this project replicated the method of using CNN and SNN to identify SRKW calls to the first 12 rounds of data collected by Orcasound (last data collected in 2020). Given the current data, the accuracy in predicting SRKW calls of SNN is inferior to that of the CNN (93.20% vs 97.03%). Same applies to precision (SNN 93.11% vs CNN 99.3%). Recall rate however is higher in SNN predictions (99.86%) than in CNN(97.4%). "
   ]
  },
  {
   "cell_type": "markdown",
   "metadata": {},
   "source": [
    "Note that the current training data include a significant amount (about 50%) of historical data collected from non-Orcasound locations. Some of them are of lower quality and may include non-SRKW samples, such as that of Bigg's killer whales. When 2021 and 2022 annotated data are added, it would be worthwhile to repeat this replication project, with historical data excluded from the training set.  "
   ]
  }
 ],
 "metadata": {
  "kernelspec": {
   "display_name": "Python 3.8.5 64-bit",
   "language": "python",
   "name": "python3"
  },
  "language_info": {
   "codemirror_mode": {
    "name": "ipython",
    "version": 3
   },
   "file_extension": ".py",
   "mimetype": "text/x-python",
   "name": "python",
   "nbconvert_exporter": "python",
   "pygments_lexer": "ipython3",
   "version": "3.8.5"
  },
  "orig_nbformat": 4,
  "vscode": {
   "interpreter": {
    "hash": "aee8b7b246df8f9039afb4144a1f6fd8d2ca17a180786b69acc140d282b71a49"
   }
  }
 },
 "nbformat": 4,
 "nbformat_minor": 2
}
